{
 "cells": [
  {
   "cell_type": "markdown",
   "id": "808c567f-6d8c-49d5-b4a7-b297d62ccaff",
   "metadata": {},
   "source": [
    "# Практическая тренировка статистических методов из курса \"Основы статистики\""
   ]
  },
  {
   "cell_type": "markdown",
   "id": "16ad4bce-b1a0-4dee-961b-4dcc045be7f4",
   "metadata": {},
   "source": [
    "[Ссылка на сам курс](https://stepik.org/course/76/syllabus)"
   ]
  },
  {
   "cell_type": "markdown",
   "id": "8c2dca34-0f42-4567-ac6b-9b40131f8b36",
   "metadata": {},
   "source": [
    "Для реализации методов я буду использовать популярный набор данных : \"Boston House Prices\"."
   ]
  },
  {
   "cell_type": "code",
   "execution_count": 1,
   "id": "973549b0-aa34-48df-a75f-79313c84cb8b",
   "metadata": {},
   "outputs": [],
   "source": [
    "import numpy as np\n",
    "import pandas as pd\n",
    "import seaborn as sns\n",
    "import matplotlib.pyplot as plt"
   ]
  },
  {
   "cell_type": "code",
   "execution_count": null,
   "id": "e85a9003-4339-4685-9f58-9ea90498d647",
   "metadata": {},
   "outputs": [],
   "source": [
    " CRIM     per capita crime rate by town\n",
    " ZN       proportion of residential land zoned for lots over 25,000 sq.ft.\n",
    " INDUS    proportion of non-retail business acres per town\n",
    " CHAS     Charles River dummy variable (= 1 if tract bounds river; 0 otherwise)\n",
    " NOX      nitric oxides concentration (parts per 10 million)\n",
    " RM       average number of rooms per dwelling\n",
    " AGE      proportion of owner-occupied units built prior to 1940\n",
    " DIS      weighted distances to five Boston employment centres\n",
    " RAD      index of accessibility to radial highways\n",
    " TAX      full-value property-tax rate per $10,000\n",
    " PTRATIO  pupil-teacher ratio by town\n",
    " B        1000(Bk - 0.63)^2 where Bk is the proportion of blacks by town\n",
    " LSTAT    % lower status of the population\n",
    " MEDV     Median value of owner-occupied homes in $1000's"
   ]
  },
  {
   "cell_type": "code",
   "execution_count": 9,
   "id": "44447d98-7d38-4ed5-b19f-833ce55a220c",
   "metadata": {},
   "outputs": [
    {
     "name": "stdout",
     "output_type": "stream",
     "text": [
      "Index(['Преступность', 'Сред. кол-во комнат', '%Старых домов',\n",
      "       'Расстояние до ЦУ', 'RAD', 'Налог', 'Медиана стоимости'],\n",
      "      dtype='object')\n"
     ]
    },
    {
     "data": {
      "text/html": [
       "<div>\n",
       "<style scoped>\n",
       "    .dataframe tbody tr th:only-of-type {\n",
       "        vertical-align: middle;\n",
       "    }\n",
       "\n",
       "    .dataframe tbody tr th {\n",
       "        vertical-align: top;\n",
       "    }\n",
       "\n",
       "    .dataframe thead th {\n",
       "        text-align: right;\n",
       "    }\n",
       "</style>\n",
       "<table border=\"1\" class=\"dataframe\">\n",
       "  <thead>\n",
       "    <tr style=\"text-align: right;\">\n",
       "      <th></th>\n",
       "      <th>Преступность</th>\n",
       "      <th>Сред. кол-во комнат</th>\n",
       "      <th>%Старых домов</th>\n",
       "      <th>Расстояние до ЦУ</th>\n",
       "      <th>RAD</th>\n",
       "      <th>Налог</th>\n",
       "      <th>Медиана стоимости</th>\n",
       "    </tr>\n",
       "  </thead>\n",
       "  <tbody>\n",
       "    <tr>\n",
       "      <th>0</th>\n",
       "      <td>0.00632</td>\n",
       "      <td>6.575</td>\n",
       "      <td>65.2</td>\n",
       "      <td>4.0900</td>\n",
       "      <td>1</td>\n",
       "      <td>296</td>\n",
       "      <td>24.0</td>\n",
       "    </tr>\n",
       "    <tr>\n",
       "      <th>1</th>\n",
       "      <td>0.02731</td>\n",
       "      <td>6.421</td>\n",
       "      <td>78.9</td>\n",
       "      <td>4.9671</td>\n",
       "      <td>2</td>\n",
       "      <td>242</td>\n",
       "      <td>21.6</td>\n",
       "    </tr>\n",
       "    <tr>\n",
       "      <th>2</th>\n",
       "      <td>0.02729</td>\n",
       "      <td>7.185</td>\n",
       "      <td>61.1</td>\n",
       "      <td>4.9671</td>\n",
       "      <td>2</td>\n",
       "      <td>242</td>\n",
       "      <td>34.7</td>\n",
       "    </tr>\n",
       "    <tr>\n",
       "      <th>3</th>\n",
       "      <td>0.03237</td>\n",
       "      <td>6.998</td>\n",
       "      <td>45.8</td>\n",
       "      <td>6.0622</td>\n",
       "      <td>3</td>\n",
       "      <td>222</td>\n",
       "      <td>33.4</td>\n",
       "    </tr>\n",
       "    <tr>\n",
       "      <th>4</th>\n",
       "      <td>0.06905</td>\n",
       "      <td>7.147</td>\n",
       "      <td>54.2</td>\n",
       "      <td>6.0622</td>\n",
       "      <td>3</td>\n",
       "      <td>222</td>\n",
       "      <td>36.2</td>\n",
       "    </tr>\n",
       "  </tbody>\n",
       "</table>\n",
       "</div>"
      ],
      "text/plain": [
       "   Преступность  Сред. кол-во комнат  %Старых домов  Расстояние до ЦУ  RAD  \\\n",
       "0       0.00632                6.575           65.2            4.0900    1   \n",
       "1       0.02731                6.421           78.9            4.9671    2   \n",
       "2       0.02729                7.185           61.1            4.9671    2   \n",
       "3       0.03237                6.998           45.8            6.0622    3   \n",
       "4       0.06905                7.147           54.2            6.0622    3   \n",
       "\n",
       "   Налог  Медиана стоимости  \n",
       "0    296               24.0  \n",
       "1    242               21.6  \n",
       "2    242               34.7  \n",
       "3    222               33.4  \n",
       "4    222               36.2  "
      ]
     },
     "execution_count": 9,
     "metadata": {},
     "output_type": "execute_result"
    }
   ],
   "source": [
    "df = pd.read_csv(r\"./HousingData.csv\")\n",
    "\n",
    "df.drop(columns=[\"ZN\", \"INDUS\", \"CHAS\", \"NOX\", \"PTRATIO\", \"B\", \"LSTAT\"], inplace=True)\n",
    "\n",
    "df = df.rename(columns={'CRIM': 'Преступность', 'NOX': '%O3', 'RM': 'Сред. кол-во комнат', 'AGE': '%Старых домов', 'DIS': 'Расстояние до ЦУ', 'TAX' : 'Налог', 'MEDV' : 'Медиана стоимости'})\n",
    "\n",
    "print(df.columns)\n",
    "df.head()"
   ]
  },
  {
   "cell_type": "markdown",
   "id": "1f1dbfdd-7006-45f6-8eb1-e8b868ad9b97",
   "metadata": {},
   "source": [
    "Для простоты оставлю несколько понятных признаков и буду работать с ними далее"
   ]
  },
  {
   "cell_type": "code",
   "execution_count": 3,
   "id": "2d18189d-b94d-4038-bc1f-944424f587d5",
   "metadata": {},
   "outputs": [
    {
     "data": {
      "text/plain": [
       "Index(['Id', 'MSSubClass', 'MSZoning', 'LotFrontage', 'LotArea', 'Street',\n",
       "       'Alley', 'LotShape', 'LandContour', 'Utilities', 'LotConfig',\n",
       "       'LandSlope', 'Neighborhood', 'Condition1', 'Condition2', 'BldgType',\n",
       "       'HouseStyle', 'OverallQual', 'OverallCond', 'YearBuilt', 'YearRemodAdd',\n",
       "       'RoofStyle', 'RoofMatl', 'Exterior1st', 'Exterior2nd', 'MasVnrType',\n",
       "       'MasVnrArea', 'ExterQual', 'ExterCond', 'Foundation', 'BsmtQual',\n",
       "       'BsmtCond', 'BsmtExposure', 'BsmtFinType1', 'BsmtFinSF1',\n",
       "       'BsmtFinType2', 'BsmtFinSF2', 'BsmtUnfSF', 'TotalBsmtSF', 'Heating',\n",
       "       'HeatingQC', 'CentralAir', 'Electrical', '1stFlrSF', '2ndFlrSF',\n",
       "       'LowQualFinSF', 'GrLivArea', 'BsmtFullBath', 'BsmtHalfBath', 'FullBath',\n",
       "       'HalfBath', 'BedroomAbvGr', 'KitchenAbvGr', 'KitchenQual',\n",
       "       'TotRmsAbvGrd', 'Functional', 'Fireplaces', 'FireplaceQu', 'GarageType',\n",
       "       'GarageYrBlt', 'GarageFinish', 'GarageCars', 'GarageArea', 'GarageQual',\n",
       "       'GarageCond', 'PavedDrive', 'WoodDeckSF', 'OpenPorchSF',\n",
       "       'EnclosedPorch', '3SsnPorch', 'ScreenPorch', 'PoolArea', 'PoolQC',\n",
       "       'Fence', 'MiscFeature', 'MiscVal', 'MoSold', 'YrSold', 'SaleType',\n",
       "       'SaleCondition', 'SalePrice'],\n",
       "      dtype='object')"
      ]
     },
     "execution_count": 3,
     "metadata": {},
     "output_type": "execute_result"
    }
   ],
   "source": [
    "data.columns"
   ]
  },
  {
   "cell_type": "code",
   "execution_count": null,
   "id": "a9086890-4a0f-4e35-a446-283d26b22106",
   "metadata": {},
   "outputs": [],
   "source": [
    "data = data[[\"SalePrice\", \"MSSubClass\", ]] "
   ]
  },
  {
   "cell_type": "markdown",
   "id": "6b9a6b6a-ab82-4131-b046-a30471525e11",
   "metadata": {},
   "source": [
    "## Неделя 1 : ВВЕДЕНИЕ"
   ]
  },
  {
   "cell_type": "code",
   "execution_count": null,
   "id": "f9989cbc-c266-4466-9b7e-8b830820c0c4",
   "metadata": {},
   "outputs": [],
   "source": []
  }
 ],
 "metadata": {
  "kernelspec": {
   "display_name": "Python 3 (ipykernel)",
   "language": "python",
   "name": "python3"
  },
  "language_info": {
   "codemirror_mode": {
    "name": "ipython",
    "version": 3
   },
   "file_extension": ".py",
   "mimetype": "text/x-python",
   "name": "python",
   "nbconvert_exporter": "python",
   "pygments_lexer": "ipython3",
   "version": "3.11.7"
  }
 },
 "nbformat": 4,
 "nbformat_minor": 5
}
