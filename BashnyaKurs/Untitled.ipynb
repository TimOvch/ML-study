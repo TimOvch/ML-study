{
 "cells": [
  {
   "cell_type": "markdown",
   "id": "ecb9488a-400e-4118-9a24-6e9504ec6a63",
   "metadata": {},
   "source": []
  },
  {
   "cell_type": "code",
   "execution_count": 1,
   "id": "2244ff60-b295-47b9-85da-fd259f6ee139",
   "metadata": {
    "jupyter": {
     "is_executing": true
    }
   },
   "outputs": [],
   "source": [
    "import numpy as np"
   ]
  },
  {
   "cell_type": "code",
   "execution_count": 82,
   "id": "32cc21e1-eb98-4d17-9d97-9dd0ae6c2331",
   "metadata": {},
   "outputs": [],
   "source": [
    "class Perceptron:\n",
    "    def __init__(self, learning_rate=0.01, n_iters=1000):\n",
    "        self.learning_rate = learning_rate\n",
    "        self.n_iters = n_iters\n",
    "        self.weights = None\n",
    "        self.bias = None\n",
    "\n",
    "    def fit(self, X, y):\n",
    "        n_samples, n_features = X.shape\n",
    "        # Инициализация весов и смещения\n",
    "        self.weights = np.zeros(n_features)\n",
    "        self.bias = 0\n",
    "\n",
    "        # Обучение модель\n",
    "        for _ in range(self.n_iters):\n",
    "            linear_output = np.dot(X, self.weights) + self.bias\n",
    "            y_predicted = self.activation_function(linear_output)\n",
    "\n",
    "            # Обновление весов\n",
    "            update = self.learning_rate * (y - y_predicted)\n",
    "            self.weights += np.dot(X.T, update)\n",
    "            self.bias += self.learning_rate * np.sum(update)\n",
    "\n",
    "    def activation_function(self, x):\n",
    "        return np.where(x >= 0, 1, 0)\n",
    "\n",
    "    def predict(self, X):\n",
    "        linear_output = np.dot(X, self.weights) + self.bias\n",
    "        return self.activation_function(linear_output)"
   ]
  },
  {
   "cell_type": "code",
   "execution_count": 92,
   "id": "b4800fb1-e921-4065-89c5-99b3130584ae",
   "metadata": {},
   "outputs": [],
   "source": [
    "X= np.array([[1,0],\n",
    "            [1,1],\n",
    "            [0,0]])\n",
    "\n",
    "y = np.array([1,\n",
    "            1,\n",
    "            0])"
   ]
  },
  {
   "cell_type": "code",
   "execution_count": 94,
   "id": "d5cd87c3-1b45-4673-ac6d-e0fabc132067",
   "metadata": {},
   "outputs": [],
   "source": [
    "perc = Perceptron(learning_rate=0.1)"
   ]
  },
  {
   "cell_type": "code",
   "execution_count": 96,
   "id": "3231c974-cb13-48ad-8642-ef2c3fb90a19",
   "metadata": {},
   "outputs": [],
   "source": [
    "perc.fit(X = X,y = y)"
   ]
  },
  {
   "cell_type": "code",
   "execution_count": 98,
   "id": "fa1d9dfb-e4fc-4936-84a5-cd561f2e88aa",
   "metadata": {},
   "outputs": [
    {
     "data": {
      "text/plain": [
       "array([1])"
      ]
     },
     "execution_count": 98,
     "metadata": {},
     "output_type": "execute_result"
    }
   ],
   "source": [
    "perc.predict(np.array([[0,1]]))"
   ]
  },
  {
   "cell_type": "code",
   "execution_count": 106,
   "id": "6692b0d3-cc34-40e6-aabc-8da530799ce4",
   "metadata": {},
   "outputs": [
    {
     "name": "stdout",
     "output_type": "stream",
     "text": [
      "Предсказания: [1]\n"
     ]
    }
   ],
   "source": [
    "X = np.array([[0, 0], [1, 0], [1, 1]])\n",
    "y = np.array([0, 0, 1])  # Логическая функция И\n",
    "\n",
    "perceptron = Perceptron(learning_rate=0.1, n_iters=100)\n",
    "perceptron.fit(X, y)\n",
    "\n",
    "predictions = perceptron.predict(np.array([[0,1]]))\n",
    "print(\"Предсказания:\", predictions)"
   ]
  },
  {
   "cell_type": "code",
   "execution_count": null,
   "id": "3f640ffb-b15b-409c-a25d-6a87c7a9908c",
   "metadata": {},
   "outputs": [],
   "source": [
    "R"
   ]
  },
  {
   "cell_type": "code",
   "execution_count": null,
   "id": "fa632bde-19e7-4696-8a16-1734361457b5",
   "metadata": {},
   "outputs": [],
   "source": []
  }
 ],
 "metadata": {
  "kernelspec": {
   "display_name": "Python 3 (ipykernel)",
   "language": "python",
   "name": "python3"
  },
  "language_info": {
   "codemirror_mode": {
    "name": "ipython",
    "version": 3
   },
   "file_extension": ".py",
   "mimetype": "text/x-python",
   "name": "python",
   "nbconvert_exporter": "python",
   "pygments_lexer": "ipython3",
   "version": "3.12.3"
  }
 },
 "nbformat": 4,
 "nbformat_minor": 5
}
