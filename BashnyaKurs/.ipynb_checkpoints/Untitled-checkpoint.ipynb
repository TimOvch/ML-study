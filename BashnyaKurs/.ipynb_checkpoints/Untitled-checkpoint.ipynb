{
 "cells": [
  {
   "cell_type": "markdown",
   "id": "ecb9488a-400e-4118-9a24-6e9504ec6a63",
   "metadata": {},
   "source": []
  },
  {
   "cell_type": "code",
   "execution_count": 3,
   "id": "2244ff60-b295-47b9-85da-fd259f6ee139",
   "metadata": {},
   "outputs": [],
   "source": [
    "import numpy as np"
   ]
  },
  {
   "cell_type": "code",
   "execution_count": 22,
   "id": "32cc21e1-eb98-4d17-9d97-9dd0ae6c2331",
   "metadata": {},
   "outputs": [],
   "source": [
    "import numpy as np\n",
    "\n",
    "class Perceptron(object):\n",
    "    \n",
    "    def __init__(self, n_iterations, rate):\n",
    "        self.n_iterations = n_iterations\n",
    "        self.rate = rate\n",
    "        self.weights = None\n",
    "        self.bias = None\n",
    "    \n",
    "    def fit(self, X, y):\n",
    "        samples, features = X.shape\n",
    "        self.weights = np.zeros(features)\n",
    "        self.bias = 0\n",
    "        \n",
    "        for i in range(self.n_iterations):\n",
    "            output = np.dot(X, self.weights) + self.bias\n",
    "            predict = self.activate(output)\n",
    "            update = self.rate * (y - predict)\n",
    "            self.weights += X.T @ update / samples  # Нормализация по количеству образцов\n",
    "            self.bias += self.rate * np.sum(update) / samples  # Нормализация по количеству образцов\n",
    "\n",
    "    def activate(self, X):\n",
    "        return np.where(X >= 0, 1, 0)\n",
    "\n",
    "    def predict(self, X):\n",
    "        output = np.dot(X, self.weights) + self.bias  # Исправлено на np.dot\n",
    "        predicted = self.activate(output)\n",
    "        return predicted\n",
    "\n",
    "        "
   ]
  },
  {
   "cell_type": "code",
   "execution_count": 23,
   "id": "b4800fb1-e921-4065-89c5-99b3130584ae",
   "metadata": {},
   "outputs": [],
   "source": [
    "X= np.array([[1,0],\n",
    "            [1,1],\n",
    "            [0,0]])\n",
    "\n",
    "y = np.array([[1],\n",
    "            [1],\n",
    "            [0]])"
   ]
  },
  {
   "cell_type": "code",
   "execution_count": 24,
   "id": "d5cd87c3-1b45-4673-ac6d-e0fabc132067",
   "metadata": {},
   "outputs": [],
   "source": [
    "perc = Perceptron(n_iterations=1, rate=0.1)"
   ]
  },
  {
   "cell_type": "code",
   "execution_count": 25,
   "id": "3231c974-cb13-48ad-8642-ef2c3fb90a19",
   "metadata": {},
   "outputs": [
    {
     "ename": "ValueError",
     "evalue": "operands could not be broadcast together with shapes (2,) (2,3) (2,) ",
     "output_type": "error",
     "traceback": [
      "\u001b[0;31m---------------------------------------------------------------------------\u001b[0m",
      "\u001b[0;31mValueError\u001b[0m                                Traceback (most recent call last)",
      "Cell \u001b[0;32mIn[25], line 1\u001b[0m\n\u001b[0;32m----> 1\u001b[0m perc\u001b[38;5;241m.\u001b[39mfit(X,y)\n",
      "Cell \u001b[0;32mIn[22], line 17\u001b[0m, in \u001b[0;36mPerceptron.fit\u001b[0;34m(self, X, y)\u001b[0m\n\u001b[1;32m     15\u001b[0m predict \u001b[38;5;241m=\u001b[39m \u001b[38;5;28mself\u001b[39m\u001b[38;5;241m.\u001b[39mactivate(output)\n\u001b[1;32m     16\u001b[0m update \u001b[38;5;241m=\u001b[39m \u001b[38;5;28mself\u001b[39m\u001b[38;5;241m.\u001b[39mrate \u001b[38;5;241m*\u001b[39m (y\u001b[38;5;241m-\u001b[39mpredict)\n\u001b[0;32m---> 17\u001b[0m \u001b[38;5;28mself\u001b[39m\u001b[38;5;241m.\u001b[39mweights \u001b[38;5;241m+\u001b[39m\u001b[38;5;241m=\u001b[39m X\u001b[38;5;241m.\u001b[39mT \u001b[38;5;241m@\u001b[39m update\n\u001b[1;32m     18\u001b[0m \u001b[38;5;28mself\u001b[39m\u001b[38;5;241m.\u001b[39mbias \u001b[38;5;241m+\u001b[39m\u001b[38;5;241m=\u001b[39m \u001b[38;5;28mself\u001b[39m\u001b[38;5;241m.\u001b[39mrate \u001b[38;5;241m*\u001b[39m np\u001b[38;5;241m.\u001b[39msum(update)\n",
      "\u001b[0;31mValueError\u001b[0m: operands could not be broadcast together with shapes (2,) (2,3) (2,) "
     ]
    }
   ],
   "source": [
    "perc.fit(X,y)"
   ]
  },
  {
   "cell_type": "code",
   "execution_count": null,
   "id": "fa1d9dfb-e4fc-4936-84a5-cd561f2e88aa",
   "metadata": {},
   "outputs": [],
   "source": []
  }
 ],
 "metadata": {
  "kernelspec": {
   "display_name": "Python 3 (ipykernel)",
   "language": "python",
   "name": "python3"
  },
  "language_info": {
   "codemirror_mode": {
    "name": "ipython",
    "version": 3
   },
   "file_extension": ".py",
   "mimetype": "text/x-python",
   "name": "python",
   "nbconvert_exporter": "python",
   "pygments_lexer": "ipython3",
   "version": "3.11.7"
  }
 },
 "nbformat": 4,
 "nbformat_minor": 5
}
