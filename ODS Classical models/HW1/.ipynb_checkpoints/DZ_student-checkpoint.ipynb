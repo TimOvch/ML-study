{
 "cells": [
  {
   "cell_type": "markdown",
   "id": "c697e69a-b6c4-4b5d-b62c-5139a9b2bb29",
   "metadata": {},
   "source": [
    "**Версии библиотек:**\n",
    "\n",
    "- pandas 2.1.4\n",
    "- numpy 1.26.4\n",
    "- statsmodels 0.14.0\n",
    "- seaborn 0.13.2\n",
    "- matplotlib 3.8.0\n",
    "- scikit-learn 1.2.2"
   ]
  },
  {
   "cell_type": "code",
   "execution_count": 1,
   "id": "36f463c0-8452-4a1a-b0e3-0468faaa8a1d",
   "metadata": {},
   "outputs": [],
   "source": [
    "import warnings\n",
    "warnings.filterwarnings('ignore')"
   ]
  },
  {
   "cell_type": "code",
   "execution_count": 2,
   "id": "08b97525-8a79-4b74-b6a7-4024348905c1",
   "metadata": {},
   "outputs": [],
   "source": [
    "import pandas as pd\n",
    "import numpy as np\n",
    "import statsmodels as sm\n",
    "\n",
    "import seaborn as sns\n",
    "import matplotlib.pyplot as plt\n",
    "\n",
    "from sklearn.linear_model import LinearRegression, Ridge, Lasso, RidgeCV, LassoCV\n",
    "from sklearn.preprocessing import StandardScaler, OneHotEncoder\n",
    "from sklearn.model_selection import train_test_split, GridSearchCV, cross_val_score\n",
    "from sklearn.metrics import r2_score, mean_squared_error, mean_absolute_percentage_error\n",
    "\n",
    "import statsmodels.api as sm\n",
    "from statsmodels.regression.linear_model import OLS\n",
    "from statsmodels.stats.outliers_influence import variance_inflation_factor\n",
    "from statsmodels.stats.diagnostic import het_white\n",
    "\n",
    "import random\n",
    "\n",
    "RANDOM_STATE = 42"
   ]
  },
  {
   "cell_type": "code",
   "execution_count": 3,
   "id": "60a39fe3-a2f3-4041-8e8e-9d8f2fcaa132",
   "metadata": {},
   "outputs": [],
   "source": [
    "def metrics_report(y_true, y_pred):\n",
    "    print(f'R2 score: {r2_score(y_true, y_pred)}')\n",
    "    print(f'RMSE: {mean_squared_error(y_true, y_pred)**0.5}')\n",
    "    print(f'MAPE: {mean_absolute_percentage_error(y_true, y_pred)}')"
   ]
  },
  {
   "cell_type": "markdown",
   "id": "71a71e60-9ed2-479e-834c-0d93475bc5c6",
   "metadata": {
    "jp-MarkdownHeadingCollapsed": true
   },
   "source": [
    "#### Задание 1"
   ]
  },
  {
   "cell_type": "markdown",
   "id": "6a9fdccf-f69f-40ff-bc59-f850dfc47073",
   "metadata": {},
   "source": [
    "\n",
    "Линейная регрессия позволяет проверить гипотезу об отличии коэффициента от нуля.\r\n",
    "\r\n",
    "Пусть имеется набор данных о стоимости какого-то товара. В таблице две колонки: значение некоторой характеристики товара и его стоимость в рублях. Постройте линейную регрессию из sklearn и statsmodels и выберите все верные ответы."
   ]
  },
  {
   "cell_type": "code",
   "execution_count": null,
   "id": "339fee2a-1610-4de0-954c-ccbc72dd7726",
   "metadata": {},
   "outputs": [],
   "source": [
    "# Загрузите данные из файла task0.csv и выведите первые 5 строк на экран\n",
    "df = # ваш код здесь"
   ]
  },
  {
   "cell_type": "code",
   "execution_count": null,
   "id": "1b8f4b17-cafe-446d-83e1-bad4142be519",
   "metadata": {},
   "outputs": [],
   "source": [
    "# Постройте scatterplot\n",
    "plt.scatter(\n",
    "    x=# ваш код здесь,\n",
    "    y=# ваш код здесь\n",
    ")\n",
    "plt.show()"
   ]
  },
  {
   "cell_type": "code",
   "execution_count": null,
   "id": "e770f975-eb0d-47d8-94ef-dd3742b80cc7",
   "metadata": {},
   "outputs": [],
   "source": [
    "# Отнормируйте значения в колонках датафрейма для удобства интерпретации коэффициентов регрессии, поделив их на максимальные значения\n",
    "# ваш код здесь"
   ]
  },
  {
   "cell_type": "code",
   "execution_count": null,
   "id": "bddb2571-b97b-4508-a1b3-64b851b3141c",
   "metadata": {},
   "outputs": [],
   "source": [
    "# Постройте модель линейной регрессии из sklearn, обучите ее на всем датафрейме и выведите на экран коэффициенты\n",
    "lin_reg = LinearRegression()\n",
    "\n",
    "# ваш код здесь"
   ]
  },
  {
   "cell_type": "code",
   "execution_count": null,
   "id": "bb620622-de9e-497d-9049-bfb39a05b0b9",
   "metadata": {},
   "outputs": [],
   "source": [
    "# График предсказаний регрессии\n",
    "plt.scatter(x=df['feature'], y=df['cost'], marker='.')\n",
    "plt.plot(df['feature'], lin_reg.predict(df[['feature']]), color='r')\n",
    "plt.show()"
   ]
  },
  {
   "cell_type": "code",
   "execution_count": null,
   "id": "f5d4881a-e882-4524-87fa-8a8b6012d559",
   "metadata": {},
   "outputs": [],
   "source": [
    "# Теперь постройте регрессию из statsmodels. Но прежде чем это сделать, необходимо добавить в выборку константу с помощью функции sm.add_constant().\n",
    "# Это необходимое техническое действие, без которого предсказания модели будут некорректными\n",
    "\n",
    "X_sm = # ваш код здесь"
   ]
  },
  {
   "cell_type": "code",
   "execution_count": null,
   "id": "b5c4f7ce-90f1-44ca-bf61-7f7d7957dddf",
   "metadata": {},
   "outputs": [],
   "source": [
    "# Постройте и обучите модель. Выведите результаты обучения (summary). После этого заполните ответ в гугл-форме.\n",
    "\n",
    "ols_model = # ваш код здесь\n",
    "ols_res = # ваш код здесь\n",
    "print(ols_res.summary())"
   ]
  },
  {
   "cell_type": "markdown",
   "id": "6b366856-d06a-4c7d-b585-fcfd8854eea6",
   "metadata": {
    "jp-MarkdownHeadingCollapsed": true
   },
   "source": [
    "#### Задание 2"
   ]
  },
  {
   "cell_type": "markdown",
   "id": "add49dfd-f6ee-4b72-a116-37345791fd1d",
   "metadata": {},
   "source": [
    "\n",
    "Проверим предположение о необходимости репрезентативности выборки. Например, ограничим данные и сравним качество прогноза на полной и ограниченной выборках.\r\n",
    "\r\n",
    "Пусть имеется набор данных о продажах домов. Рассмотрим две выборки, обучим на них модель линейной регрессии и сравним результаты. Первая выборка должна включать в себя только данные о домах, в которых не более 2 спальных комнат. Вторая выборка будет включать в себя все типы домов. Построить регрессию из statsmodels и в качестве ответа предоставить значения коэффициентов детерминации в обоих случаях (округлить до 3 знака)\r\n",
    "\r\n",
    "Формат ответа: 0.333 0.342"
   ]
  },
  {
   "cell_type": "code",
   "execution_count": null,
   "id": "99d4f32a-860b-43fc-84db-7f6dcfabc145",
   "metadata": {},
   "outputs": [],
   "source": [
    "# Считайте данные из файла house_prices.csv и выведите первые 5 строк на экран\n",
    "data = # ваш код здесь"
   ]
  },
  {
   "cell_type": "code",
   "execution_count": null,
   "id": "4e651e34-de88-4360-9ae9-d93c3740c4b6",
   "metadata": {},
   "outputs": [],
   "source": [
    "# Создайте списки категориальных и количественных переменных (целевую переменную в списки не включать)\n",
    "var_categorical = # ваш код здесь\n",
    "var_numeric = # ваш код здесь"
   ]
  },
  {
   "cell_type": "code",
   "execution_count": null,
   "id": "3c8c0488-bd41-42a1-adca-ff6752071dfa",
   "metadata": {},
   "outputs": [],
   "source": [
    "# Сделайте две выборки, описанные в задании\n",
    "X1 = data[data['bedrooms'] < 3]\n",
    "X2 = # ваш код здесь\n",
    "y1 = X1['price']\n",
    "y2 = # ваш код здесь"
   ]
  },
  {
   "cell_type": "code",
   "execution_count": null,
   "id": "a88615be-2db2-4749-ae6d-9e4f3a90be1d",
   "metadata": {},
   "outputs": [],
   "source": [
    "# Закодируйте категориальные признаки (там, где значения 'yes'/'no', просто замените из на 1/0, остальное - с помощью OneHotEncoder())\n",
    "\n",
    "# ваш код здесь (кодировка бинарных признаков)"
   ]
  },
  {
   "cell_type": "code",
   "execution_count": null,
   "id": "3aaea913-e022-4f30-9680-c63dbc6b3d16",
   "metadata": {},
   "outputs": [],
   "source": [
    "# Кодировка остальных категориальных признаков\n",
    "encoder1 = OneHotEncoder(handle_unknown='ignore')\n",
    "\n",
    "furnished_enc_1 = pd.DataFrame(\n",
    "    encoder1.fit_transform(X1[['furnishingstatus']]).toarray(),\n",
    "    columns=encoder1.categories_\n",
    ")\n",
    "\n",
    "encoder2 = # ваш код здесь\n",
    "\n",
    "furnished_enc_2 = # ваш код здесь"
   ]
  },
  {
   "cell_type": "code",
   "execution_count": null,
   "id": "2a6ee7d8-923b-428b-a62c-f561075be297",
   "metadata": {},
   "outputs": [],
   "source": [
    "# Теперь масштабируйте количественные признаки\n",
    "scaler1 = StandardScaler()\n",
    "\n",
    "X1_numeric = pd.DataFrame(\n",
    "    scaler1.fit_transform(X1[var_numeric]),\n",
    "    columns=var_numeric\n",
    ")\n",
    "\n",
    "scaler2 = # ваш код здесь\n",
    "\n",
    "X2_numeric = # ваш код здесь"
   ]
  },
  {
   "cell_type": "code",
   "execution_count": null,
   "id": "1078de3c-73de-4cb7-95c8-7bbe62f9bd39",
   "metadata": {},
   "outputs": [],
   "source": [
    "# Соберите все в один датафрейм\n",
    "X1_enc = X1_numeric.join([furnished_enc_1, X1[var_categorical].reset_index(drop=True)]).drop('furnishingstatus', axis=1)\n",
    "X1_enc.shape"
   ]
  },
  {
   "cell_type": "code",
   "execution_count": null,
   "id": "4168107f-075c-483c-936a-b10b5f6d9fa1",
   "metadata": {},
   "outputs": [],
   "source": [
    "X2_enc = # ваш код здесь"
   ]
  },
  {
   "cell_type": "code",
   "execution_count": null,
   "id": "d79c5ad6-772d-49e5-a6b3-d2940d6de85b",
   "metadata": {},
   "outputs": [],
   "source": [
    "# Для удобства переименуйте колонки, получившиеся при кодировании признака 'furnishingstatus' и удалите одну лишнюю ('unfurnished')\n",
    "X1_enc = # ваш код здесь\n",
    "\n",
    "X2_enc = # ваш код здесь"
   ]
  },
  {
   "cell_type": "code",
   "execution_count": null,
   "id": "5c51dbd3-530f-4a31-a92a-391a3e1364e5",
   "metadata": {},
   "outputs": [],
   "source": [
    "# К обеим выборкам добавьте константу для работы с моделями из statsmodels, затем выполните сброс индексов в обеих сериях целевой переменной\n",
    "\n",
    "# ваш код здесь\n",
    "\n",
    "y1 = # ваш код здесь\n",
    "y2 = # ваш код здесь"
   ]
  },
  {
   "cell_type": "code",
   "execution_count": null,
   "id": "cb248b1c-a1f4-4df9-8f47-5954b3eb01a0",
   "metadata": {},
   "outputs": [],
   "source": [
    "# Постройте модели, обучите их на соответствующих выборках и выведите информацию о моделях\n",
    "ols1 = # ваш код здесь\n",
    "ols1_res = # ваш код здесь\n",
    "print(ols1_res.summary())"
   ]
  },
  {
   "cell_type": "code",
   "execution_count": null,
   "id": "1f9e427d-7f37-417f-865e-ff37d79bada2",
   "metadata": {},
   "outputs": [],
   "source": [
    "ols2 = # ваш код здесь"
   ]
  },
  {
   "cell_type": "code",
   "execution_count": null,
   "id": "cae94950-0614-4784-8a8b-c80d86b37967",
   "metadata": {},
   "outputs": [],
   "source": [
    "# Вызвав функцию metrics_report, определенную в начале ноутбука, выведите на экран значения метрик\n",
    "# при предсказании обеих моделей на полном наборе данных (то есть на выборке с номером 2)\n",
    "metrics_report(y2, ols1.predict(# ваш код здесь))"
   ]
  },
  {
   "cell_type": "code",
   "execution_count": null,
   "id": "475e6f2d-79cf-48c1-a1df-a102fb898db6",
   "metadata": {},
   "outputs": [],
   "source": [
    "metrics_report(# ваш код здесь)"
   ]
  },
  {
   "cell_type": "code",
   "execution_count": null,
   "id": "3c520f89-cb98-4efb-b4ff-19497c2e6b54",
   "metadata": {},
   "outputs": [],
   "source": [
    "# Введите ответ в гугл-форме"
   ]
  },
  {
   "cell_type": "markdown",
   "id": "5b92779a-1341-4c8b-8399-92bace6be7df",
   "metadata": {
    "jp-MarkdownHeadingCollapsed": true
   },
   "source": [
    "#### Задание 3"
   ]
  },
  {
   "cell_type": "markdown",
   "id": "80c8f0b2-df56-4f31-8c06-6ef29a3429a7",
   "metadata": {},
   "source": [
    "Еще одно предположение, выполнение которого сильно влияет на результат работы линейной регрессии, - это предположение о строгой экзогенности. Суть заключается в следующем. Предположим, было составлено уравнение регрессии, в котором целевой признак `'y'` определяется признаком `'x'` и некоторой константой. Предположим также, что существует некоторый фактор `'t'`, который влияет и на `'x'`, и на `'y'`, однако в уравнении не присутствует. Это может быть какой-то невидимый нам, неявный фактор. Получается, что наше уравнение является неполным, не описывает картину в целом.\n",
    "\n",
    "Пусть имеется набор данных из трех колонок: два признака (`'x'` и `'t'`) и таргет `'y'`. Необходимо (а) построить регрессию, используя только `'x'` и `'y'`; (б) построить регрессию на `'t'` и `'y'`. В качестве ответа выбрать верные значения коэффициентов детерминации"
   ]
  },
  {
   "cell_type": "code",
   "execution_count": null,
   "id": "fcbffbbc-db30-49b4-a11b-0c7e4ce3e2f2",
   "metadata": {},
   "outputs": [],
   "source": [
    "# Создание нормально распределенного шума\n",
    "rng = np.random.RandomState(RANDOM_STATE)\n",
    "mu, sigma = 0, 0.1\n",
    "eps = rng.normal(mu, sigma, size=1000)"
   ]
  },
  {
   "cell_type": "code",
   "execution_count": null,
   "id": "b422a00d-6139-4f7a-b32f-00ce0a09b0b0",
   "metadata": {},
   "outputs": [],
   "source": [
    "c_train = 0\n",
    "c_test = 0.1"
   ]
  },
  {
   "cell_type": "code",
   "execution_count": null,
   "id": "e6e8a50b-43bf-4db7-93f8-15ad269ff625",
   "metadata": {},
   "outputs": [],
   "source": [
    "# Создание набора данных\n",
    "t = np.linspace(0, 1, 1000)\n",
    "\n",
    "y = np.log(1 + t)\n",
    "x = t + eps\n",
    "\n",
    "df = pd.DataFrame({'t' : t, 'x' : x, 'y' : y})\n",
    "df.head()"
   ]
  },
  {
   "cell_type": "code",
   "execution_count": null,
   "id": "3a819972-4e9a-4c98-bb9f-1c400eddd0e1",
   "metadata": {},
   "outputs": [],
   "source": [
    "# Разделение на тренировочную и тестовую выборки\n",
    "X_train, X_test, y_train, y_test = train_test_split(df[['x', 't']], df['y'], test_size=0.4, shuffle=True, random_state=RANDOM_STATE)\n",
    "\n",
    "X_train['x'] += c_train\n",
    "X_test['x'] += c_test"
   ]
  },
  {
   "cell_type": "code",
   "execution_count": null,
   "id": "1053f22d-7982-4fa0-9809-e0190beceb4f",
   "metadata": {},
   "outputs": [],
   "source": [
    "# Постройте модель только на 'x' и 'y', посчитайте коэффициент детерминации на тестовой выборке\n",
    "model = # ваш код здесь"
   ]
  },
  {
   "cell_type": "code",
   "execution_count": null,
   "id": "09877c91-e792-4f72-b49b-fa028384b6b2",
   "metadata": {},
   "outputs": [],
   "source": [
    "# Постройте модель только на 't' и 'y', посчитайте коэффициент детерминации на тестовой выборке и сдайте ответ в гугл-форму\n",
    "model = # ваш код здесь"
   ]
  },
  {
   "cell_type": "markdown",
   "id": "5b712e61-e0b2-4a4b-a030-057c67d79e93",
   "metadata": {},
   "source": [
    "Отсюда можно сделать вывод о том, что для корректной работы модели важно правильно выбрать признаки."
   ]
  },
  {
   "cell_type": "markdown",
   "id": "01aed6d5-34a2-4152-8ecc-c62f455773ed",
   "metadata": {
    "jp-MarkdownHeadingCollapsed": true
   },
   "source": [
    "#### Задание 4"
   ]
  },
  {
   "cell_type": "markdown",
   "id": "d9190bd1-4925-4e6c-ac87-9503c594ea23",
   "metadata": {},
   "source": [
    "Вернемся к данным о продаже домов. Постройте матрицу корреляций числовых признаков для тренировочной выборки. Закодируйте категориальные и масштабируйте количественные. После этого постройте регрессию из statsmodels и, проанализировав ее выдачу, определите признаки, не являющиеся полезными для построения модели. В качестве ответа на вопрос введите значение коэффициента корреляции Пирсона между признаками 'bedrooms' и 'stories', а также признаки, которые не являются полезными для модели и p-value для них (все выводится через пробел, десятичный разделитель - точка)\n",
    "\n",
    "<u>Формат ответа:</u> corr_coef feature feature_p_value\n",
    "\n",
    "<u>Пример:</u> 0.001 mainroad 0.123"
   ]
  },
  {
   "cell_type": "code",
   "execution_count": null,
   "id": "d16014f5-c460-4ff7-8b7e-359c41b78bba",
   "metadata": {},
   "outputs": [],
   "source": [
    "# Снова считайте данные из файла house_prices.csv\n",
    "data = # ваш код здесь"
   ]
  },
  {
   "cell_type": "code",
   "execution_count": null,
   "id": "a2488b54-a5b7-4207-b077-428e9262f86b",
   "metadata": {},
   "outputs": [],
   "source": [
    "# Создайте списки категориальных и количественных переменных\n",
    "var_categorical = # ваш код здесь\n",
    "var_numeric = # ваш код здесь"
   ]
  },
  {
   "cell_type": "code",
   "execution_count": null,
   "id": "661e44df-c911-4171-9bb9-6a531d3ab576",
   "metadata": {},
   "outputs": [],
   "source": [
    "# Разделите данные на тренировочную и тестовую выборки. ВАЖНО: здесь и везде далее, где это возможно, указывать параметр random_state=RANDOM_STATE.\n",
    "# Размер тестовой выборки 0.4, перемешивание данных должно быть включено (параметр shuffle)\n",
    "X, y = # ваш код здесь\n",
    "X_train, X_test, y_train, y_test = # ваш код здесь"
   ]
  },
  {
   "cell_type": "code",
   "execution_count": null,
   "id": "e9d88f6e-94c5-4d0b-bcb4-9588cbfa6cfd",
   "metadata": {},
   "outputs": [],
   "source": [
    "# Построить матрицу корреляций\n",
    "corr_matrix = # ваш код здесь\n",
    "\n",
    "plt.figure(figsize=(6, 4))\n",
    "sns.heatmap(corr_matrix, cmap='coolwarm', center=0, annot=True)\n",
    "plt.title('Матрица корреляций признаков')\n",
    "plt.xlabel('Признаки')\n",
    "plt.ylabel('Признаки')\n",
    "plt.show()"
   ]
  },
  {
   "cell_type": "code",
   "execution_count": null,
   "id": "64acbfd7-5698-45c6-bd71-b015269f3c57",
   "metadata": {},
   "outputs": [],
   "source": [
    "# Выполните кодирование категориальных и масштабирование количественных признаков (аналогично заданию 2).\n",
    "# После этого соберите все в один датафрейм, переименуйте и удалите нужные колонки и сбросьте индексы в сериях целевой переменной\n",
    "\n",
    "# ваш код здесь"
   ]
  },
  {
   "cell_type": "code",
   "execution_count": null,
   "id": "b3018477-fcf5-4980-ad9b-ffc4bc7c5830",
   "metadata": {},
   "outputs": [],
   "source": [
    "# Добавьте константы\n",
    "X_train_sm = # ваш код здесь\n",
    "X_test_sm = # ваш код здесь"
   ]
  },
  {
   "cell_type": "code",
   "execution_count": null,
   "id": "95727598-fb59-4aa5-a60a-f924b4be8e07",
   "metadata": {},
   "outputs": [],
   "source": [
    "# Постройте модель линейной регрессии из statsmodels и, проанализировав ее выдачу,\n",
    "# найдите признаки, не являющиеся важными для модели и сдайте ответ в гугл-форму."
   ]
  },
  {
   "cell_type": "code",
   "execution_count": null,
   "id": "fd3c30c5-06f5-4cbe-9573-f106f77f4115",
   "metadata": {},
   "outputs": [],
   "source": [
    "# Удалите признаки, которые не являются важными, чтобы не учитывать их в дальнейших исследованиях"
   ]
  },
  {
   "attachments": {},
   "cell_type": "markdown",
   "id": "fe76a16d-9cac-4258-9abb-5d0298634392",
   "metadata": {
    "jp-MarkdownHeadingCollapsed": true
   },
   "source": [
    "#### Задание 5"
   ]
  },
  {
   "cell_type": "markdown",
   "id": "8796ae74-d91f-46b3-b73f-940fe3ee29f3",
   "metadata": {},
   "source": [
    "Проверьте важность признаков. Для этого постройте регрессию только на площади квартиры и выберите в гугл-форме все верные ответы."
   ]
  },
  {
   "cell_type": "code",
   "execution_count": null,
   "id": "cb45f84f-3bf3-4179-8172-4e58193ab095",
   "metadata": {},
   "outputs": [],
   "source": [
    "# Постройте регрессию из statsmodels только на площади (не забудьте добавить константы)\n",
    "# ваш код здесь"
   ]
  },
  {
   "cell_type": "code",
   "execution_count": null,
   "id": "762cef89-f94f-406f-9f91-a415e05a9512",
   "metadata": {},
   "outputs": [],
   "source": [
    "# Теперь постройте регрессию на всех признаках\n",
    "# ваш код здесь"
   ]
  },
  {
   "cell_type": "code",
   "execution_count": null,
   "id": "a7094548-5aee-4e3f-a59c-1ee94e4fcb9b",
   "metadata": {},
   "outputs": [],
   "source": [
    "# Анализируя выдачу statsmodels, выберите все верные ответы"
   ]
  },
  {
   "cell_type": "markdown",
   "id": "1c12ec50-fa3a-4963-900a-a71dd49db9ef",
   "metadata": {
    "jp-MarkdownHeadingCollapsed": true
   },
   "source": [
    "#### Задание 6"
   ]
  },
  {
   "cell_type": "markdown",
   "id": "ec44a2d5-3374-4e90-b361-b0b65a178a1b",
   "metadata": {},
   "source": [
    "Каково примерное изменение стоимости дома при увеличении количества этажей на два (разумеется, при прочих равных)? Проверить, построив линейную регрессию. В качестве ответа выбрать значение, максимально близкое к полученному Вами теоретически, и значение, максимально совпадающее с полученным путем построения линейной регрессии (при самостоятельном расчете взять разность средних значений)"
   ]
  },
  {
   "cell_type": "code",
   "execution_count": null,
   "id": "e78316b6-0069-40cd-b3ec-97966c0a34ec",
   "metadata": {},
   "outputs": [],
   "source": [
    "# В этом задании признак 'bedrooms' оставьте"
   ]
  },
  {
   "cell_type": "code",
   "execution_count": null,
   "id": "2c2100e0-5304-4930-ba22-9da0fc0b1a48",
   "metadata": {},
   "outputs": [],
   "source": [
    "data.head()"
   ]
  },
  {
   "cell_type": "code",
   "execution_count": null,
   "id": "16147ec9-0ba1-4e70-89b3-2fa1b13c6384",
   "metadata": {},
   "outputs": [],
   "source": [
    "# Создайте датафрейм, в котором количество этажей в каждом доме будет больше на два\n",
    "df = # ваш код здесь"
   ]
  },
  {
   "cell_type": "code",
   "execution_count": null,
   "id": "fadb1961-560d-4b5c-bb1a-df20e1dcdbe7",
   "metadata": {},
   "outputs": [],
   "source": [
    "# Закодируйте категориальные и масштабируйте количественные признаки в обоих датафреймах\n",
    "# ваш код здесь"
   ]
  },
  {
   "cell_type": "code",
   "execution_count": null,
   "id": "74157840-0747-48b1-b286-31867f1f2e00",
   "metadata": {},
   "outputs": [],
   "source": [
    "# Не забудьте добавить константы и постройте модель регрессии из statsmodels, обучите ее на исходном наборе (data_sm)\n",
    "\n",
    "data_sm = # ваш код здесь\n",
    "df_sm = # ваш код здесь\n",
    "\n",
    "ols_model = # ваш код здесь"
   ]
  },
  {
   "cell_type": "code",
   "execution_count": null,
   "id": "1b06c424-403a-40ed-a319-4ba18e259798",
   "metadata": {},
   "outputs": [],
   "source": [
    "# Выполните предсказания на обоих наборах данных (data_sm и df_sm) и вычислите разность средних значений этих предсказаний. Сдайте ответ в гугл-форму\n",
    "\n",
    "ols_model.predict(ols_res.params, df_sm).mean() - ols_model.predict(ols_res.params, data_sm).mean()"
   ]
  },
  {
   "cell_type": "markdown",
   "id": "7960b904-cf66-40cb-8b7c-88a6c257aec5",
   "metadata": {
    "jp-MarkdownHeadingCollapsed": true
   },
   "source": [
    "#### Задание 7"
   ]
  },
  {
   "cell_type": "markdown",
   "id": "b6eb93e8-b233-4c62-b2fd-a146a2654dfe",
   "metadata": {},
   "source": [
    "Теперь займемся проверкой допущений. Для начала проверим отсутствие мультиколлинеарности. Это можно сделать с помощью VIF (Variance Inflation Factor). Если он будет больше 4 (договорное значение, аналогичное p-value), то эта переменная коррелирует с какой-то из присутствующих, и ее нужно убрать.\n",
    "\n",
    "Рассчитайте VIF для всех колонок и найдите те, которые коррелируют. После этого постройте две регрессии: с одним из коррелирующих признаков и с обоими (все остальные признаки тоже включаем, конечно). Выберите все верные ответы из списка."
   ]
  },
  {
   "cell_type": "code",
   "execution_count": null,
   "id": "d49ec892-9517-4069-b723-c92effaf5510",
   "metadata": {},
   "outputs": [],
   "source": [
    "# Снова считайте набор данных house_prices.csv, разделите его на тренировочную и тестовую выборки,\n",
    "# закодируйте категориальные и масштабируйте количественнные признаки\n",
    "\n",
    "data = # ваш код здесь"
   ]
  },
  {
   "cell_type": "code",
   "execution_count": null,
   "id": "a6fedd03-fda2-4872-879c-0dc941ab81bf",
   "metadata": {},
   "outputs": [],
   "source": [
    "# random_state=RANDOM_STATE, перемешивание включено, размер тестовой выборки 0.4\n",
    "X, y = # ваш код здесь\n",
    "X_train, X_test, y_train, y_test = # ваш код здесь"
   ]
  },
  {
   "cell_type": "code",
   "execution_count": null,
   "id": "3143d86b-e1c3-4e44-b0ad-6dcb9506429e",
   "metadata": {},
   "outputs": [],
   "source": [
    "# ваш код здесь"
   ]
  },
  {
   "cell_type": "code",
   "execution_count": null,
   "id": "189c879b-5ad3-45ce-9f8c-5616b4022761",
   "metadata": {},
   "outputs": [],
   "source": [
    "# Вычислите VIF и найдите коррелирующие признаки\n",
    "vif_data = pd.DataFrame()\n",
    "vif_data[\"feature\"] = X_train_enc.columns\n",
    "\n",
    "vif_data[\"VIF\"] = # ваш код здесь\n",
    "vif_data"
   ]
  },
  {
   "cell_type": "code",
   "execution_count": null,
   "id": "1c9c8a39-555f-474d-adcb-a3727dfb0d20",
   "metadata": {},
   "outputs": [],
   "source": [
    "# Постройте регрессию из statsmodels, обучите ее на выборке без одного из коррелирующих признаков.\n",
    "# Проделайте то же самое на выборке со всеми признаками.\n",
    "\n",
    "# ваш код здесь"
   ]
  },
  {
   "cell_type": "markdown",
   "id": "67719d31-ac82-4080-86f6-2f5c9cd5f1a8",
   "metadata": {
    "jp-MarkdownHeadingCollapsed": true
   },
   "source": [
    "#### Задание 8"
   ]
  },
  {
   "cell_type": "markdown",
   "id": "90b3f25d-8252-4a57-9aa7-c0f6ab0f576a",
   "metadata": {},
   "source": [
    "С помощью теста Уайта проверить отсутствие гетероскедастичности, то есть равенство дисперсий ошибок всех признаков. В качестве ответа сдать p-value этого теста.\n",
    "\n",
    "О тесте Уайта. В качестве нулевой гипотезы примем равенство дисперсий ошибок всех признаков. Альтернатива, соответственно, будет за нарушение этого равенства. Если мы будем вынуждены отвергнуть нулевую гипотезу ($p-value < 0.05$), то можно будет сделать вывод о присутствии гетероскедастичности в наших данных.\n",
    "\n",
    "Суть теста в следующем. Часто гетероскедастичность модели вызвана зависимостью (возможно, довольно сложной) дисперсий ошибок от признаков. На основе этого факта можно провести тест без каких-либо предположений о структуре гетероскедастичности. Сначала к исходной модели применяется обычный метод наименьших квадратов и находятся остатки регрессии $e_t$. Затем осуществляется регрессия квадратов этих остатков $e_t^2$ на все признаки, их квадраты, попарные произведения и константу. Тогда при гипотезе $H_0$ величина $NR^2$ асимптотически имеет распределение $\\chi^2(N-1)$, где $R^2$ — коэффициент детерминации, а $N$ — число регрессоров второй регрессии. Плюс данного теста — его универсальность. Минусы : 1) если гипотеза $H_0$ отвергается, то никаких указаний на функциональную форму гетероскедастичности мы не получаем; 2) поиск вида регрессии вслепую (начинаем приближать простыми полиномами второй степени без какой бы то ни было причины на это)"
   ]
  },
  {
   "cell_type": "code",
   "execution_count": null,
   "id": "dde76921-c327-4ecd-a7c2-d7fe93b0ae7f",
   "metadata": {},
   "outputs": [],
   "source": [
    "# Для проведения теста Уайта постройте линейную регрессию, предварительно удалив признаки 'bedrooms' и 'special_index'\n",
    "ols_model = # ваш код здесь\n",
    "# ваш код здесь"
   ]
  },
  {
   "cell_type": "code",
   "execution_count": null,
   "id": "d6532eb2-388f-46d7-b145-acbb12f87414",
   "metadata": {},
   "outputs": [],
   "source": [
    "# Постройте график остатков от номера эксперимента\n",
    "plt.figure(figsize=(6, 4))\n",
    "plt.xlabel('number of experiment')\n",
    "plt.ylabel('residual')\n",
    "plt.scatter(x=list(range(ols_res.resid.shape[0])), y=ols_res.resid)\n",
    "plt.show()"
   ]
  },
  {
   "cell_type": "code",
   "execution_count": null,
   "id": "326c6656-f9de-401a-9ed3-a33fff8d7eb5",
   "metadata": {},
   "outputs": [],
   "source": [
    "# Проведите тест Уайта\n",
    "white_test = het_white(\n",
    "    # ваш код здесь\n",
    ")\n",
    "\n",
    "labels = ['Test Statistic', 'Test Statistic p-value', 'F-Statistic', 'F-Test p-value']\n",
    "\n",
    "print(dict(zip(labels, white_test)))"
   ]
  },
  {
   "cell_type": "code",
   "execution_count": null,
   "id": "8833af03-e23e-4f3a-873c-8a3a9dc707dd",
   "metadata": {},
   "outputs": [],
   "source": [
    "# Постройте график остатков регрессии от предсказанных значений\n",
    "# ваш код здесь"
   ]
  },
  {
   "cell_type": "code",
   "execution_count": null,
   "id": "1809092f-29b7-49fb-a055-177c94220b2e",
   "metadata": {},
   "outputs": [],
   "source": [
    "# Сдайте результат в гугл-форму"
   ]
  },
  {
   "cell_type": "markdown",
   "id": "3e7577a1-533c-4cdc-a2d7-0846865a9a7b",
   "metadata": {
    "jp-MarkdownHeadingCollapsed": true
   },
   "source": [
    "#### Задание 9"
   ]
  },
  {
   "cell_type": "markdown",
   "id": "9e982796-a165-4be4-a724-479fca164a20",
   "metadata": {},
   "source": [
    "Имеется набор данных о заболевании сахарным диабетом. В качестве признаков выступают пол, ИМТ и другие. Целевая переменная - некоторый медицинский показатель, связанный со степенью диабета. Проверить наличие мультиколлинеарности в данных. Построить обычную регрессию и посмотреть на ее коэффициенты при коррелирующих признаках. Затем построить регрессию с L1-регуляризацией (LASSO) и убедиться, что коэффициенты при коррелирующих признаках стремятся к нулю. В качестве ответа выберите признаки, при которых модель LASSO-регрессии занулила коэффициенты."
   ]
  },
  {
   "cell_type": "code",
   "execution_count": null,
   "id": "370a701c-3112-4068-b4e1-9b4b9c76838d",
   "metadata": {},
   "outputs": [],
   "source": [
    "# Загрузите набор данных\n",
    "from sklearn import datasets\n",
    "\n",
    "diabetes = datasets.load_diabetes()\n",
    "\n",
    "df = pd.DataFrame(diabetes.data)\n",
    "df.columns = diabetes.feature_names\n",
    "\n",
    "df['diabetes_measure'] = diabetes.target\n",
    "df.head()"
   ]
  },
  {
   "cell_type": "code",
   "execution_count": null,
   "id": "6126c89c-ff0c-4e61-9509-47f3f476041b",
   "metadata": {},
   "outputs": [],
   "source": [
    "# Нормируйте целевой признак на максимальное значение и разбейте данные на тренировочную и тестовую выборки.\n",
    "# Размер тестовой выборки 0.25, перемешивание включено, random_state=RANDOM_STATE\n",
    "X, y = # ваш код здесь\n",
    "X_train, X_test, y_train, y_test = # ваш код здесь"
   ]
  },
  {
   "cell_type": "code",
   "execution_count": null,
   "id": "63ea42a1-62ad-4caf-b933-3809ca661faa",
   "metadata": {},
   "outputs": [],
   "source": [
    "# Постройте матрицу корреляций\n",
    "# ваш код здесь"
   ]
  },
  {
   "cell_type": "code",
   "execution_count": null,
   "id": "ce06e185-44bb-4405-9730-2475c1615be2",
   "metadata": {},
   "outputs": [],
   "source": [
    "# Построить регрессию из sklearn, обучить ее и рассчитать метрику RMSE, используя функцию cross_val_score\n",
    "lin_reg = # ваш код здесь\n",
    "\n",
    "rmse = cross_val_score(\n",
    "    estimator=lin_reg,\n",
    "    X=X_train,\n",
    "    y=y_train,\n",
    "    scoring='neg_root_mean_squared_error',\n",
    "    cv=10\n",
    ")\n",
    "\n",
    "-rmse.mean()"
   ]
  },
  {
   "cell_type": "code",
   "execution_count": null,
   "id": "d4617755-169a-42d8-8efe-7620fcc71364",
   "metadata": {},
   "outputs": [],
   "source": [
    "# Выполнить предсказания и вывести метрики с помощью функции metrics_report\n",
    "# ваш код здесь"
   ]
  },
  {
   "cell_type": "code",
   "execution_count": null,
   "id": "585bc30f-23cb-47c8-a0ff-f4916f65ba8f",
   "metadata": {},
   "outputs": [],
   "source": [
    "# Вывести отсортированные коэффициенты регрессии\n",
    "coefs = []\n",
    "for i in range(len(X_train.columns)):\n",
    "    col = X_train.columns[i]\n",
    "    coef = lin_reg.coef_[i]\n",
    "    coefs.append((col, coef))\n",
    "\n",
    "coefs.sort(key=lambda x: x[1], reverse=True)\n",
    "for i in range(len(coefs)):\n",
    "    print(f'{coefs[i][0]} : {coefs[i][1] : .2f}')"
   ]
  },
  {
   "cell_type": "code",
   "execution_count": null,
   "id": "7f079ce9-a0ae-4367-9851-448469c14aaf",
   "metadata": {},
   "outputs": [],
   "source": [
    "# Построить регрессию с L1-регуляризацией, осуществить автоматический поиск оптимальных гиперпараметров с помощью GridSearchCV.\n",
    "# Обучить регрессию с оптимальными параметрами и, выведя ее коэффициенты, выяснить, какие признаки модель занулила\n",
    "lasso = # ваш код здесь\n",
    "\n",
    "params = {'alpha' : [0.001, 0.01, 0.05, 0.1, 0.5, 1.0, 5.0, 10.0]}\n",
    "\n",
    "clf = GridSearchCV(lasso, params, scoring='neg_root_mean_squared_error', cv=5)\n",
    "# ваш код здесь"
   ]
  },
  {
   "cell_type": "code",
   "execution_count": null,
   "id": "6abc03d5-6e7a-4bbe-99ab-b04e2c0d5e7e",
   "metadata": {},
   "outputs": [],
   "source": [
    "lasso = # ваш код здесь (регрессия с L1-регуляризацией с оптимальными параметрами)"
   ]
  },
  {
   "cell_type": "code",
   "execution_count": null,
   "id": "e09c7f1d-a6f3-43f0-a921-381553bd1c08",
   "metadata": {},
   "outputs": [],
   "source": [
    "# Аналогично случаю обычной регрессии выведите коэффициенты модели для всех признаков, чтобы найти те, которые модель занулила\n",
    "# Сдайте ответ в гугл-форме\n",
    "# ваш код здесь"
   ]
  },
  {
   "cell_type": "markdown",
   "id": "0bf75524-9286-4d33-aaf0-3aa7aff1e8be",
   "metadata": {
    "jp-MarkdownHeadingCollapsed": true
   },
   "source": [
    "#### Задание 10"
   ]
  },
  {
   "cell_type": "markdown",
   "id": "c384be40-689b-425a-92a9-a710676380ac",
   "metadata": {},
   "source": [
    "Рассмотрим все тот же набор данных о заболевании диабетом. Только теперь добавился еще один признак 's7'. Построить регрессию, затем применить регуляризацию и в качестве ответа сдать соответствующие коэффициенты детерминации, рассчитанные на тестовой выборке. Ответ округлить до третьего знака.\n",
    "\n",
    "<u>Формат ответа:</u> lin_reg_r2 ridge_r2 lasso_r2"
   ]
  },
  {
   "cell_type": "code",
   "execution_count": null,
   "id": "3da2d584-2b83-4ada-9807-c7d2965b08d3",
   "metadata": {},
   "outputs": [],
   "source": [
    "X_train['s7'] = np.sin(X_train['s3']) + X_train['s3'] ** 2 + X_train['s3']\n",
    "X_test['s7'] = np.sin(X_test['s3']) + X_test['s3'] ** 2 + X_test['s3']"
   ]
  },
  {
   "cell_type": "code",
   "execution_count": null,
   "id": "ddca91d9-3928-4b3a-a033-fe95d39073ea",
   "metadata": {},
   "outputs": [],
   "source": [
    "# Постройте матрицу корреляций\n",
    "# ваш код здесь"
   ]
  },
  {
   "cell_type": "code",
   "execution_count": null,
   "id": "764440f6-9c87-4bbe-bc86-cd8c3ea336ed",
   "metadata": {},
   "outputs": [],
   "source": [
    "# Постройте линейную регрессию из sklearn и оцените качество модели с помощью кросс-валидации, как в задании выше\n",
    "lin_reg = # ваш код здесь"
   ]
  },
  {
   "cell_type": "code",
   "execution_count": null,
   "id": "87b51c2d-6d92-4898-bc12-cde334771864",
   "metadata": {},
   "outputs": [],
   "source": [
    "# Выполните предсказания на тренировочной и на тестовой выборках и по значениям коэффициента детерминации убедитесь в присутствии переобучения\n",
    "# ваш код здесь"
   ]
  },
  {
   "cell_type": "code",
   "execution_count": null,
   "id": "5c1a312e-6f89-4cc5-8a3e-b8157d76bfe4",
   "metadata": {},
   "outputs": [],
   "source": [
    "# Постройте регрессию с L2-регуляризацией, выполните предсказания на тренировочной и тестовой выборках (не забывайте про random_state)\n",
    "ridge = # ваш код здесь\n",
    "\n",
    "params = {'alpha' : [0.001, 0.01, 0.05, 0.1, 0.5, 1.0, 5.0, 10.0], 'solver' : ['saga', 'svd', 'lsqr']}\n",
    "\n",
    "clf = GridSearchCV(ridge, params, scoring='neg_root_mean_squared_error', cv=5)\n",
    "# ваш код здесь"
   ]
  },
  {
   "cell_type": "code",
   "execution_count": null,
   "id": "10128254-7f13-428e-be80-80025ded252b",
   "metadata": {},
   "outputs": [],
   "source": [
    "# Обучите регрессию с оптимальными параметрами и выполните предсказания\n",
    "# ваш код здесь"
   ]
  },
  {
   "cell_type": "code",
   "execution_count": null,
   "id": "a8a648f5",
   "metadata": {},
   "outputs": [],
   "source": [
    "# Аналогично с LASSO-регрессией\n",
    "# ваш код здесь"
   ]
  }
 ],
 "metadata": {
  "kernelspec": {
   "display_name": "Python 3 (ipykernel)",
   "language": "python",
   "name": "python3"
  },
  "language_info": {
   "codemirror_mode": {
    "name": "ipython",
    "version": 3
   },
   "file_extension": ".py",
   "mimetype": "text/x-python",
   "name": "python",
   "nbconvert_exporter": "python",
   "pygments_lexer": "ipython3",
   "version": "3.11.7"
  }
 },
 "nbformat": 4,
 "nbformat_minor": 5
}
